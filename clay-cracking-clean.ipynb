{
 "cells": [
  {
   "cell_type": "code",
   "execution_count": 2,
   "metadata": {},
   "outputs": [],
   "source": [
    "import numpy as np\n",
    "import scipy as sp\n",
    "import pandas as pd\n",
    "import matplotlib\n",
    "import matplotlib.pyplot as plt\n",
    "import matplotlib.animation as anim\n",
    "import os\n",
    "import wave\n",
    "import time\n",
    "from importlib import reload\n",
    "import ipywidgets as IP\n",
    "\n",
    "import plotfuncs\n",
    "from crack_tools import Shift,Dist,  UpdatePos,  Drying,  Simulate, RepeatSim"
   ]
  },
  {
   "cell_type": "markdown",
   "metadata": {},
   "source": [
    "### Simulation "
   ]
  },
  {
   "cell_type": "code",
   "execution_count": 3,
   "metadata": {},
   "outputs": [
    {
     "name": "stdout",
     "output_type": "stream",
     "text": [
      "Initialization took 0.826092004776001 s, for simulation n°0\n",
      "Step n°0 took 0.33547091484069824 s\n",
      "Step n°10 took 0.12958192825317383 s\n",
      "Step n°20 took 0.12887239456176758 s\n",
      "Step n°30 took 0.1090080738067627 s\n",
      "Step n°40 took 0.10846304893493652 s\n",
      "Step n°50 took 0.09590697288513184 s\n",
      "Step n°60 took 0.11559104919433594 s\n",
      "Step n°70 took 0.054250240325927734 s\n",
      "Step n°80 took 0.12947916984558105 s\n",
      "Step n°90 took 0.03458523750305176 s\n",
      "Step n°100 took 0.16096067428588867 s\n",
      "Step n°110 took 0.11498570442199707 s\n",
      "Step n°120 took 0.051448822021484375 s\n",
      "Step n°130 took 0.04004716873168945 s\n",
      "Step n°140 took 0.03669881820678711 s\n",
      "Step n°150 took 0.16581153869628906 s\n",
      "Step n°160 took 0.046544551849365234 s\n",
      "Step n°170 took 0.04169034957885742 s\n",
      "Step n°180 took 0.03905677795410156 s\n",
      "Step n°190 took 0.26355695724487305 s\n",
      "Step n°200 took 0.049447059631347656 s\n",
      "Step n°210 took 0.048026323318481445 s\n",
      "Step n°220 took 0.05191779136657715 s\n",
      "Step n°230 took 0.035315513610839844 s\n",
      "Step n°240 took 0.05344414710998535 s\n",
      "Step n°250 took 0.053228139877319336 s\n",
      "Step n°260 took 0.039917707443237305 s\n",
      "Step n°270 took 0.04365229606628418 s\n",
      "Step n°280 took 0.052285194396972656 s\n",
      "Step n°290 took 0.12434267997741699 s\n",
      "Step n°300 took 0.6161472797393799 s\n",
      "Step n°310 took 0.053417205810546875 s\n",
      "Step n°320 took 0.16679167747497559 s\n",
      "Step n°330 took 0.05307126045227051 s\n",
      "Step n°340 took 0.05548453330993652 s\n",
      "Step n°350 took 0.047736406326293945 s\n",
      "Step n°360 took 0.09229159355163574 s\n",
      "Step n°370 took 0.029817819595336914 s\n",
      "Step n°380 took 0.05699586868286133 s\n",
      "Step n°390 took 0.23422646522521973 s\n",
      "Step n°400 took 0.13727211952209473 s\n",
      "Step n°410 took 0.06814169883728027 s\n",
      "Step n°420 took 0.05085182189941406 s\n",
      "Step n°430 took 0.10847783088684082 s\n",
      "Step n°440 took 0.05306529998779297 s\n",
      "Step n°450 took 0.056467294692993164 s\n",
      "Step n°460 took 0.036223649978637695 s\n",
      "Step n°470 took 0.04150390625 s\n",
      "Step n°480 took 0.08156371116638184 s\n",
      "Step n°490 took 0.04881596565246582 s\n"
     ]
    }
   ],
   "source": [
    "Nt = 500 #number of time frames\n",
    "Nx, Ny, Nz = 14,10,3\n",
    "thresh = 0.1232 # maximum distance between two element before they crack apart ; chose arb st we observe cracks (~ size reduction - noise )\n",
    "# Note : 1 - 0,7^(1/3) = 0,112095998  length reduction < threshold\n",
    "\n",
    "Xsim,Ysim,Zsim,  Vsim,Hsim,  CXsim,CYsim,CZsim,Expsim = RepeatSim(Nx,Ny,Nz,Nt,  sigV=.06,sigC=.06,thresh=thresh,  Nsim=1,save=False,  dr=1,dt=1)"
   ]
  },
  {
   "cell_type": "markdown",
   "metadata": {},
   "source": [
    "### Plotting"
   ]
  },
  {
   "cell_type": "code",
   "execution_count": 4,
   "metadata": {},
   "outputs": [],
   "source": [
    "#Get back to real dimensions (actually not really OK) : \n",
    "dr = 10 # micrometers\n",
    "dt = .1 # s"
   ]
  },
  {
   "cell_type": "code",
   "execution_count": 5,
   "metadata": {},
   "outputs": [],
   "source": [
    "#%matplotlib qt\n",
    "#reload(plotfuncs)\n",
    "#plotfuncs.ScatterAnim(Nx,Ny,Nz,Nt,  Xt,Yt,Zt,  Vt,Ht,  CXt,CYt,CZt,Expt,  dr,dt) #global D necessary but too global "
   ]
  },
  {
   "cell_type": "code",
   "execution_count": 6,
   "metadata": {},
   "outputs": [
    {
     "data": {
      "application/vnd.jupyter.widget-view+json": {
       "model_id": "7e6cdace7e1c46b3880d6f52968556d3",
       "version_major": 2,
       "version_minor": 0
      },
      "text/plain": [
       "interactive(children=(IntSlider(value=500, description='t', max=500), IntSlider(value=2, description='z', max=…"
      ]
     },
     "metadata": {},
     "output_type": "display_data"
    }
   ],
   "source": [
    "#Xsim,Ysim,Zsim,  Vsim,Hsim,  CXsim,CYsim,CZsim,Expsim = np.load('INPUT PATH HERE'+ '(28, 20, 4, 500)_10_runs_CLEAN.npy')\n",
    "Nsim,Nt,Nx,Ny,Nz = np.shape(Xsim)\n",
    "Nt=Nt-1\n",
    "\n",
    "%matplotlib inline\n",
    "plotfuncs.CrackInteract(Nx,Ny,Nz,Nt,  Xsim,Ysim,Zsim,  Vsim,Hsim,  CXsim,CYsim,CZsim,Expsim,  dr,dt, Hnorm=None, hist=True,Cnorm=(.5,1.1),mode='average') #"
   ]
  }
 ],
 "metadata": {
  "kernelspec": {
   "display_name": "base",
   "language": "python",
   "name": "python3"
  },
  "language_info": {
   "codemirror_mode": {
    "name": "ipython",
    "version": 3
   },
   "file_extension": ".py",
   "mimetype": "text/x-python",
   "name": "python",
   "nbconvert_exporter": "python",
   "pygments_lexer": "ipython3",
   "version": "3.10.13"
  }
 },
 "nbformat": 4,
 "nbformat_minor": 2
}
