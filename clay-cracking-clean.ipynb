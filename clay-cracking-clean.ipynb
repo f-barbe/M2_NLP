{
 "cells": [
  {
   "cell_type": "code",
   "execution_count": 1,
   "metadata": {},
   "outputs": [],
   "source": [
    "import numpy as np\n",
    "import scipy as sp\n",
    "import pandas as pd\n",
    "import matplotlib\n",
    "import matplotlib.pyplot as plt\n",
    "import matplotlib.animation as anim\n",
    "import os\n",
    "import wave\n",
    "import time\n",
    "from importlib import reload\n",
    "import ipywidgets as IP\n",
    "\n",
    "import plotfuncs\n",
    "from crack_tools import Shift,Dist,  UpdatePos,  Drying,  Simulate, RepeatSim"
   ]
  },
  {
   "cell_type": "markdown",
   "metadata": {},
   "source": [
    "### Simulation "
   ]
  },
  {
   "cell_type": "code",
   "execution_count": 15,
   "metadata": {},
   "outputs": [],
   "source": [
    "Nt = 500 #number of time frames\n",
    "Nx, Ny, Nz = 28,20,4\n",
    "thresh = 0.1232 # maximum distance between two element before they crack apart ; chose arb st we observe cracks (~ size reduction - noise )\n",
    "# Note : 1 - 0,7^(1/3) = 0,112095998  length reduction < threshold\n",
    "\n",
    "Xsim,Ysim,Zsim,  Vsim,Hsim,  CXsim,CYsim,CZsim,Expsim = RepeatSim(Nx,Ny,Nz,Nt,  sigV=.06,sigC=.06,thresh=thresh,  Nsim=10,save=False,  dr=1,dt=1)"
   ]
  },
  {
   "cell_type": "markdown",
   "metadata": {},
   "source": [
    "### Plotting"
   ]
  },
  {
   "cell_type": "code",
   "execution_count": 5,
   "metadata": {},
   "outputs": [],
   "source": [
    "#Get back to real dimensions (actually not really OK) : \n",
    "dr = 10 # micrometers\n",
    "dt = .1 # s"
   ]
  },
  {
   "cell_type": "code",
   "execution_count": 6,
   "metadata": {},
   "outputs": [],
   "source": [
    "#%matplotlib qt\n",
    "#reload(plotfuncs)\n",
    "#plotfuncs.ScatterAnim(Nx,Ny,Nz,Nt,  Xt,Yt,Zt,  Vt,Ht,  CXt,CYt,CZt,Expt,  dr,dt) #global D necessary but too global "
   ]
  },
  {
   "cell_type": "code",
   "execution_count": 27,
   "metadata": {},
   "outputs": [
    {
     "ename": "FileNotFoundError",
     "evalue": "[Errno 2] No such file or directory: '/home/flavien/Documents/M2/NLP/saves/(28, 20, 4, 500)_10_runs_CLEAN.npy'",
     "output_type": "error",
     "traceback": [
      "\u001b[0;31m---------------------------------------------------------------------------\u001b[0m",
      "\u001b[0;31mFileNotFoundError\u001b[0m                         Traceback (most recent call last)",
      "Cell \u001b[0;32mIn[27], line 1\u001b[0m\n\u001b[0;32m----> 1\u001b[0m Xsim,Ysim,Zsim,  Vsim,Hsim,  CXsim,CYsim,CZsim,Expsim \u001b[38;5;241m=\u001b[39m \u001b[43mnp\u001b[49m\u001b[38;5;241;43m.\u001b[39;49m\u001b[43mload\u001b[49m\u001b[43m(\u001b[49m\u001b[38;5;124;43m'\u001b[39;49m\u001b[38;5;124;43m/home/flavien/Documents/M2/NLP/saves/\u001b[39;49m\u001b[38;5;124;43m'\u001b[39;49m\u001b[38;5;241;43m+\u001b[39;49m\u001b[43m \u001b[49m\u001b[38;5;124;43m'\u001b[39;49m\u001b[38;5;124;43m(28, 20, 4, 500)_10_runs_CLEAN.npy\u001b[39;49m\u001b[38;5;124;43m'\u001b[39;49m\u001b[43m)\u001b[49m\n\u001b[1;32m      2\u001b[0m Nsim,Nt,Nx,Ny,Nz \u001b[38;5;241m=\u001b[39m np\u001b[38;5;241m.\u001b[39mshape(Xsim)\n\u001b[1;32m      3\u001b[0m Nt\u001b[38;5;241m=\u001b[39mNt\u001b[38;5;241m-\u001b[39m\u001b[38;5;241m1\u001b[39m\n",
      "File \u001b[0;32m~/miniconda3/lib/python3.10/site-packages/numpy/lib/npyio.py:427\u001b[0m, in \u001b[0;36mload\u001b[0;34m(file, mmap_mode, allow_pickle, fix_imports, encoding, max_header_size)\u001b[0m\n\u001b[1;32m    425\u001b[0m     own_fid \u001b[38;5;241m=\u001b[39m \u001b[38;5;28;01mFalse\u001b[39;00m\n\u001b[1;32m    426\u001b[0m \u001b[38;5;28;01melse\u001b[39;00m:\n\u001b[0;32m--> 427\u001b[0m     fid \u001b[38;5;241m=\u001b[39m stack\u001b[38;5;241m.\u001b[39menter_context(\u001b[38;5;28;43mopen\u001b[39;49m\u001b[43m(\u001b[49m\u001b[43mos_fspath\u001b[49m\u001b[43m(\u001b[49m\u001b[43mfile\u001b[49m\u001b[43m)\u001b[49m\u001b[43m,\u001b[49m\u001b[43m \u001b[49m\u001b[38;5;124;43m\"\u001b[39;49m\u001b[38;5;124;43mrb\u001b[39;49m\u001b[38;5;124;43m\"\u001b[39;49m\u001b[43m)\u001b[49m)\n\u001b[1;32m    428\u001b[0m     own_fid \u001b[38;5;241m=\u001b[39m \u001b[38;5;28;01mTrue\u001b[39;00m\n\u001b[1;32m    430\u001b[0m \u001b[38;5;66;03m# Code to distinguish from NumPy binary files and pickles.\u001b[39;00m\n",
      "\u001b[0;31mFileNotFoundError\u001b[0m: [Errno 2] No such file or directory: '/home/flavien/Documents/M2/NLP/saves/(28, 20, 4, 500)_10_runs_CLEAN.npy'"
     ]
    }
   ],
   "source": [
    "#Xsim,Ysim,Zsim,  Vsim,Hsim,  CXsim,CYsim,CZsim,Expsim = np.load('INPUT PATH HERE'+ '(28, 20, 4, 500)_10_runs_CLEAN.npy')\n",
    "Nsim,Nt,Nx,Ny,Nz = np.shape(Xsim)\n",
    "Nt=Nt-1\n",
    "\n",
    "%matplotlib inline\n",
    "plotfuncs.CrackInteract(Nx,Ny,Nz,Nt,  Xsim,Ysim,Zsim,  Vsim,Hsim,  CXsim,CYsim,CZsim,Expsim,  dr,dt, Hnorm=None, hist=True,Cnorm=(.5,1.1),mode='average') #"
   ]
  }
 ],
 "metadata": {
  "kernelspec": {
   "display_name": "base",
   "language": "python",
   "name": "python3"
  },
  "language_info": {
   "codemirror_mode": {
    "name": "ipython",
    "version": 3
   },
   "file_extension": ".py",
   "mimetype": "text/x-python",
   "name": "python",
   "nbconvert_exporter": "python",
   "pygments_lexer": "ipython3",
   "version": "3.10.13"
  }
 },
 "nbformat": 4,
 "nbformat_minor": 2
}
